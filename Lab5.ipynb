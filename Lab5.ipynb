{
 "cells": [
  {
   "cell_type": "code",
   "execution_count": 5,
   "id": "4aed5c2a-e1c7-4caa-b9aa-3823276acb10",
   "metadata": {},
   "outputs": [
    {
     "name": "stdin",
     "output_type": "stream",
     "text": [
      " abc\n"
     ]
    },
    {
     "name": "stdout",
     "output_type": "stream",
     "text": [
      "True\n"
     ]
    }
   ],
   "source": [
    "import re\n",
    "\n",
    "def f(s):\n",
    "    return bool(re.match(r'ab*', s))\n",
    "\n",
    "s = input()\n",
    "print(f\"{f(s)}\")\n",
    "\n"
   ]
  },
  {
   "cell_type": "code",
   "execution_count": 7,
   "id": "22bf7a02-1e00-44ea-b4c6-c45feb270366",
   "metadata": {},
   "outputs": [
    {
     "name": "stdin",
     "output_type": "stream",
     "text": [
      " abbb\n"
     ]
    },
    {
     "name": "stdout",
     "output_type": "stream",
     "text": [
      "True\n"
     ]
    }
   ],
   "source": [
    "import re\n",
    "\n",
    "def f(s):\n",
    "    return bool(re.match(r'ab{2,3}', s))\n",
    "\n",
    "s = input()\n",
    "print(f\"{f(s)}\")\n"
   ]
  },
  {
   "cell_type": "code",
   "execution_count": 9,
   "id": "a45aef00-c519-44ce-9285-4fed8f21830e",
   "metadata": {},
   "outputs": [
    {
     "name": "stdin",
     "output_type": "stream",
     "text": [
      " hello_world_this_is_python\n"
     ]
    },
    {
     "name": "stdout",
     "output_type": "stream",
     "text": [
      "['hello_world_this_is_python']\n"
     ]
    }
   ],
   "source": [
    "import re\n",
    "\n",
    "def f(s):\n",
    "    return re.findall(r'[a-z]+(?:_[a-z]+)*', s)\n",
    "\n",
    "s = input()\n",
    "print(f\"{f(s)}\")\n"
   ]
  },
  {
   "cell_type": "code",
   "execution_count": 13,
   "id": "44db6c72-cd8b-4588-994c-d9aa0565bbf2",
   "metadata": {},
   "outputs": [
    {
     "name": "stdin",
     "output_type": "stream",
     "text": [
      " HelloworldManas\n"
     ]
    },
    {
     "name": "stdout",
     "output_type": "stream",
     "text": [
      "['Helloworld', 'Manas']\n"
     ]
    }
   ],
   "source": [
    "import re\n",
    "\n",
    "def f(s):\n",
    "    return re.findall(r'[A-Z][a-z]+', s)\n",
    "\n",
    "s = input()\n",
    "print(f\"{f(s)}\")\n"
   ]
  },
  {
   "cell_type": "code",
   "execution_count": 15,
   "id": "bd112948-df4f-4f04-9495-d087082b03f6",
   "metadata": {},
   "outputs": [
    {
     "name": "stdin",
     "output_type": "stream",
     "text": [
      " acccbb\n"
     ]
    },
    {
     "name": "stdout",
     "output_type": "stream",
     "text": [
      "True\n"
     ]
    }
   ],
   "source": [
    "import re\n",
    "\n",
    "def f(s):\n",
    "    return bool(re.match(r'a.*b$', s))\n",
    "\n",
    "s = input()\n",
    "print(f\"{f(s)}\")\n"
   ]
  },
  {
   "cell_type": "code",
   "execution_count": 17,
   "id": "8f7c942b-b58f-4880-a80e-7c6685ed6d0b",
   "metadata": {},
   "outputs": [
    {
     "name": "stdin",
     "output_type": "stream",
     "text": [
      " Hello World, My name is Manas.\n"
     ]
    },
    {
     "name": "stdout",
     "output_type": "stream",
     "text": [
      "Hello:World::My:name:is:Manas:\n"
     ]
    }
   ],
   "source": [
    "import re\n",
    "\n",
    "def f(s):\n",
    "    return re.sub(r'[ ,.]', \":\", s)\n",
    "\n",
    "s = input()\n",
    "print(f\"{f(s)}\")\n"
   ]
  },
  {
   "cell_type": "code",
   "execution_count": 19,
   "id": "5cda9167-f97e-4a71-b4b3-aeff1319c4b0",
   "metadata": {},
   "outputs": [
    {
     "name": "stdin",
     "output_type": "stream",
     "text": [
      " hello_world_manas\n"
     ]
    },
    {
     "name": "stdout",
     "output_type": "stream",
     "text": [
      "helloWorldManas\n"
     ]
    }
   ],
   "source": [
    "def f(s):\n",
    "    words = s.split('_')\n",
    "    return words[0] + ''.join(word.capitalize() for word in words[1:])\n",
    "\n",
    "s = input()\n",
    "print(f\"{f(s)}\")\n"
   ]
  },
  {
   "cell_type": "code",
   "execution_count": 21,
   "id": "85990817-3575-4c00-90f3-ef5237b611de",
   "metadata": {},
   "outputs": [
    {
     "name": "stdin",
     "output_type": "stream",
     "text": [
      " HelloWorldManas\n"
     ]
    },
    {
     "name": "stdout",
     "output_type": "stream",
     "text": [
      "['Hello', 'World', 'Manas']\n"
     ]
    }
   ],
   "source": [
    "import re\n",
    "\n",
    "def f(s):\n",
    "    return re.findall(r'[A-Z]?[a-z]+|[A-Z]+', s)\n",
    "\n",
    "s = input()\n",
    "print(f\"{f(s)}\")\n"
   ]
  },
  {
   "cell_type": "code",
   "execution_count": 23,
   "id": "8480489a-8872-4349-8790-c8e9b03050c0",
   "metadata": {},
   "outputs": [
    {
     "name": "stdin",
     "output_type": "stream",
     "text": [
      " HelloworldManas\n"
     ]
    },
    {
     "name": "stdout",
     "output_type": "stream",
     "text": [
      "Helloworld Manas\n"
     ]
    }
   ],
   "source": [
    "import re\n",
    "\n",
    "def f(s):\n",
    "    return re.sub(r'([a-z])([A-Z])', r'\\1 \\2', s)\n",
    "\n",
    "s = input()\n",
    "print(f\"{f(s)}\")\n"
   ]
  },
  {
   "cell_type": "code",
   "execution_count": 25,
   "id": "7ae963c7-166d-4ada-b919-c30cdf1d3511",
   "metadata": {},
   "outputs": [
    {
     "name": "stdin",
     "output_type": "stream",
     "text": [
      " HelloWorldManas\n"
     ]
    },
    {
     "name": "stdout",
     "output_type": "stream",
     "text": [
      "hello_world_manas\n"
     ]
    }
   ],
   "source": [
    "import re\n",
    "\n",
    "def f(s):\n",
    "    return re.sub(r'([A-Z])', r'_\\1', s).lower().lstrip('_')\n",
    "\n",
    "s = input()\n",
    "print(f\"{f(s)}\")\n"
   ]
  },
  {
   "cell_type": "code",
   "execution_count": null,
   "id": "4bdad9c0-f91c-4250-ac5c-0c0fede0dbbb",
   "metadata": {},
   "outputs": [],
   "source": []
  }
 ],
 "metadata": {
  "kernelspec": {
   "display_name": "Python 3 (ipykernel)",
   "language": "python",
   "name": "python3"
  },
  "language_info": {
   "codemirror_mode": {
    "name": "ipython",
    "version": 3
   },
   "file_extension": ".py",
   "mimetype": "text/x-python",
   "name": "python",
   "nbconvert_exporter": "python",
   "pygments_lexer": "ipython3",
   "version": "3.12.7"
  }
 },
 "nbformat": 4,
 "nbformat_minor": 5
}
