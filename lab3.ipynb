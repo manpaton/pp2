{
 "cells": [
  {
   "cell_type": "code",
   "execution_count": 1,
   "id": "c61dcfae-6b33-44ba-b0c8-811bc4b3bf51",
   "metadata": {},
   "outputs": [
    {
     "name": "stdout",
     "output_type": "stream",
     "text": [
      "0.3527336860670194\n"
     ]
    }
   ],
   "source": [
    "def ounce(gramm):\n",
    "    print(gramm/28.35)\n",
    "n = 10\n",
    "ounce(n)"
   ]
  },
  {
   "cell_type": "code",
   "execution_count": 3,
   "id": "b89e44fb-575c-4eff-981c-fc33f07c9c3d",
   "metadata": {},
   "outputs": [
    {
     "name": "stdout",
     "output_type": "stream",
     "text": [
      "0.0\n"
     ]
    }
   ],
   "source": [
    "def celsious( far):\n",
    "    print((far-32) * 5/9)\n",
    "celsious(32)"
   ]
  },
  {
   "cell_type": "code",
   "execution_count": 5,
   "id": "17c79022-41c4-473b-ba7d-aea574bf52a1",
   "metadata": {},
   "outputs": [
    {
     "name": "stdout",
     "output_type": "stream",
     "text": [
      "1\n",
      "3\n",
      "5\n",
      "2\n",
      "13\n"
     ]
    }
   ],
   "source": [
    "def filter_prime(list):\n",
    "    for i in list:\n",
    "        ol = True\n",
    "        j = 2\n",
    "        for j in range(j, i):\n",
    "            if i%j==0:\n",
    "                ol = False\n",
    "                break\n",
    "        if ol:\n",
    "            print(i)\n",
    "l = [1, 3, 45, 12, 5, 2 , 13]\n",
    "filter_prime(l)\n",
    "            "
   ]
  },
  {
   "cell_type": "code",
   "execution_count": 63,
   "id": "021c39ae-e8f3-4062-9740-a28ae0c004b4",
   "metadata": {},
   "outputs": [
    {
     "name": "stdin",
     "output_type": "stream",
     "text": [
      " abc\n"
     ]
    },
    {
     "name": "stdout",
     "output_type": "stream",
     "text": [
      "abc\n",
      "acb\n",
      "bac\n",
      "bca\n",
      "cab\n",
      "cba\n"
     ]
    }
   ],
   "source": [
    "def generate_permutations(s, current_perm=\"\"):\n",
    "    if len(s) == 0:\n",
    "        print(current_perm)\n",
    "    else:\n",
    "        for i in range(len(s)):\n",
    "            new_str = s[:i] + s[i+1:]\n",
    "            generate_permutations(new_str, current_perm + s[i])\n",
    "\n",
    "def print_permutations():\n",
    "    user_input = input()\n",
    "    generate_permutations(user_input)\n",
    "\n",
    "print_permutations()\n"
   ]
  },
  {
   "cell_type": "code",
   "execution_count": 17,
   "id": "ae8daf5d-3e79-456b-88ac-3158b0fb7eb9",
   "metadata": {},
   "outputs": [
    {
     "name": "stdout",
     "output_type": "stream",
     "text": [
      "хорошо\n",
      "все\n",
      "меня\n",
      "у\n",
      "дела\n",
      "как\n",
      "Привет\n"
     ]
    }
   ],
   "source": [
    "def func(s):\n",
    "    l = s.split()\n",
    "    for i in range(len(l) - 1, -1, -1): \n",
    "        print(l[i])\n",
    "\n",
    "s = \"Привет как дела у меня все хорошо\"\n",
    "func(s)\n"
   ]
  },
  {
   "cell_type": "code",
   "execution_count": 25,
   "id": "ed2ec02f-7a40-4d16-ae85-f0d6badeed70",
   "metadata": {},
   "outputs": [
    {
     "name": "stdout",
     "output_type": "stream",
     "text": [
      "True\n",
      "False\n"
     ]
    }
   ],
   "source": [
    "def has_33(nums):\n",
    "    ol = False\n",
    "    for i in range(len(nums)-1):\n",
    "        if nums[i] == 3 and nums[i+1] == 3:\n",
    "            ol = True\n",
    "    print(ol)\n",
    "nums = [1, 3, 3]\n",
    "nums2= [3, 1, 3]\n",
    "has_33(nums)\n",
    "has_33(nums2)"
   ]
  },
  {
   "cell_type": "code",
   "execution_count": 29,
   "id": "8612727e-be9d-4b46-9814-74cad15f36d2",
   "metadata": {},
   "outputs": [
    {
     "name": "stdout",
     "output_type": "stream",
     "text": [
      "True\n",
      "True\n",
      "False\n"
     ]
    }
   ],
   "source": [
    "def spy_game(nums):\n",
    "    ol = False\n",
    "    for i in range(len(nums) - 2):\n",
    "        if nums[i] == 0:\n",
    "            for j in range(i, len(nums)-1):\n",
    "                if nums[j] == 0:\n",
    "                    for k in range(j, len(nums)):\n",
    "                        if nums[k] == 7:\n",
    "                            ol = True\n",
    "    print(ol)\n",
    "spy_game([1,2,4,0,0,7,5]) \n",
    "spy_game([1,0,2,4,0,5,7]) \n",
    "spy_game([1,7,2,0,4,5,0])"
   ]
  },
  {
   "cell_type": "code",
   "execution_count": 35,
   "id": "f85f970a-1c40-4727-be04-e123bc5cca05",
   "metadata": {},
   "outputs": [
    {
     "name": "stdout",
     "output_type": "stream",
     "text": [
      "113.03999999999998\n"
     ]
    }
   ],
   "source": [
    "def vol(rad):\n",
    "    print((4/3)*3.14*rad*rad*rad)\n",
    "vol(3)"
   ]
  },
  {
   "cell_type": "code",
   "execution_count": 41,
   "id": "4ef79d18-a8cb-4887-a7fd-4ea248e895a6",
   "metadata": {},
   "outputs": [
    {
     "name": "stdout",
     "output_type": "stream",
     "text": [
      "['long', 'key', 'apple']\n"
     ]
    }
   ],
   "source": [
    "def uniq(l):\n",
    "    k = []\n",
    "    ol = False\n",
    "    for i in range(len(l)):\n",
    "        for j in range(len(k)):\n",
    "            ol = False\n",
    "            if l[i] == k[j]:\n",
    "                ol = True\n",
    "        if ol == False:\n",
    "            k.append(l[i])\n",
    "    print(k)\n",
    "uniq([\"long\", \"long\", \"key\", \"apple\"])\n"
   ]
  },
  {
   "cell_type": "code",
   "execution_count": 51,
   "id": "d30e15ec-9c6b-4bf2-93a7-aaaf917258c0",
   "metadata": {},
   "outputs": [
    {
     "name": "stdout",
     "output_type": "stream",
     "text": [
      "True\n",
      "False\n"
     ]
    }
   ],
   "source": [
    "def pol(s):\n",
    "    ol = True\n",
    "    for i in range(len(s)//2):\n",
    "        if s[i] != s[-i-1]:\n",
    "            ol = False\n",
    "    print(ol)\n",
    "pol(\"madam\")\n",
    "pol(\"not\")\n"
   ]
  },
  {
   "cell_type": "code",
   "execution_count": 57,
   "id": "5a585198-15f9-442e-aa3b-41b226d2e857",
   "metadata": {},
   "outputs": [
    {
     "name": "stdout",
     "output_type": "stream",
     "text": [
      "****\n",
      "*********\n",
      "*******\n"
     ]
    }
   ],
   "source": [
    "def his(l):\n",
    "    for i in l:\n",
    "        print(i*\"*\")\n",
    "his([4, 9, 7])"
   ]
  },
  {
   "cell_type": "code",
   "execution_count": 67,
   "id": "6b43b1d7-0eb9-4880-befd-0959e52cfd6e",
   "metadata": {},
   "outputs": [
    {
     "name": "stdin",
     "output_type": "stream",
     "text": [
      "Hello! What is your name? 15\n"
     ]
    },
    {
     "name": "stdout",
     "output_type": "stream",
     "text": [
      "Well, 15, I am thinking of a number between 1 and 20.\n"
     ]
    },
    {
     "name": "stdin",
     "output_type": "stream",
     "text": [
      "Take a guess 15\n"
     ]
    },
    {
     "name": "stdout",
     "output_type": "stream",
     "text": [
      "Your guess is too low\n"
     ]
    },
    {
     "name": "stdin",
     "output_type": "stream",
     "text": [
      "Take a guess 2\n"
     ]
    },
    {
     "name": "stdout",
     "output_type": "stream",
     "text": [
      "Your guess is too low\n"
     ]
    },
    {
     "name": "stdin",
     "output_type": "stream",
     "text": [
      "Take a guess 19\n"
     ]
    },
    {
     "name": "stdout",
     "output_type": "stream",
     "text": [
      "Your guess is too low\n"
     ]
    },
    {
     "name": "stdin",
     "output_type": "stream",
     "text": [
      "Take a guess 20\n"
     ]
    },
    {
     "name": "stdout",
     "output_type": "stream",
     "text": [
      "Good job, 15 You guessed my number in 3 guesses!\n"
     ]
    }
   ],
   "source": [
    "import random\n",
    "name = str(input(\"Hello! What is your name?\"))\n",
    "num = random.randint(1,20)\n",
    "print(\"Well, \"+name+ \", I am thinking of a number between 1 and 20.\")\n",
    "cnt = 0\n",
    "while True:\n",
    "    guess = int(input(\"Take a guess\"))\n",
    "    if guess < num:\n",
    "        print(\"Your guess is too low\")\n",
    "    elif guess > num:\n",
    "        print(\"Your guess is too high\")\n",
    "    else:\n",
    "        print(\"Good job, \" + name+ \" You guessed my number in \"+ str(cnt) +\" guesses!\")\n",
    "        break\n",
    "    cnt+=1"
   ]
  },
  {
   "cell_type": "code",
   "execution_count": 75,
   "id": "6f88f8ed-0f72-41fb-a4bc-7e08eff9a2a9",
   "metadata": {},
   "outputs": [
    {
     "name": "stdout",
     "output_type": "stream",
     "text": [
      "True\n"
     ]
    }
   ],
   "source": [
    "import random \n",
    "def imdb(mov):\n",
    "    return mov[\"imdb\"] > 5.5\n",
    "movies = [\n",
    "{\n",
    "\"name\": \"Usual Suspects\", \n",
    "\"imdb\": 7.0,\n",
    "\"category\": \"Thriller\"\n",
    "},\n",
    "{\n",
    "\"name\": \"Hitman\",\n",
    "\"imdb\": 6.3,\n",
    "\"category\": \"Action\"\n",
    "},\n",
    "{\n",
    "\"name\": \"Dark Knight\",\n",
    "\"imdb\": 9.0,\n",
    "\"category\": \"Adventure\"\n",
    "},\n",
    "{\n",
    "\"name\": \"The Help\",\n",
    "\"imdb\": 8.0,\n",
    "\"category\": \"Drama\"\n",
    "},\n",
    "{\n",
    "\"name\": \"The Choice\",\n",
    "\"imdb\": 6.2,\n",
    "\"category\": \"Romance\"\n",
    "},\n",
    "{\n",
    "\"name\": \"Colonia\",\n",
    "\"imdb\": 7.4,\n",
    "\"category\": \"Romance\"\n",
    "},\n",
    "{\n",
    "\"name\": \"Love\",\n",
    "\"imdb\": 6.0,\n",
    "\"category\": \"Romance\"\n",
    "},\n",
    "{\n",
    "\"name\": \"Bride Wars\",\n",
    "\"imdb\": 5.4,\n",
    "\"category\": \"Romance\"\n",
    "},\n",
    "{\n",
    "\"name\": \"AlphaJet\",\n",
    "\"imdb\": 3.2,\n",
    "\"category\": \"War\"\n",
    "},\n",
    "{\n",
    "\"name\": \"Ringing Crime\",\n",
    "\"imdb\": 4.0,\n",
    "\"category\": \"Crime\"\n",
    "},\n",
    "{\n",
    "\"name\": \"Joking muck\",\n",
    "\"imdb\": 7.2,\n",
    "\"category\": \"Comedy\"\n",
    "},\n",
    "{\n",
    "\"name\": \"What is the name\",\n",
    "\"imdb\": 9.2,\n",
    "\"category\": \"Suspense\"\n",
    "},\n",
    "{\n",
    "\"name\": \"Detective\",\n",
    "\"imdb\": 7.0,\n",
    "\"category\": \"Suspense\"\n",
    "},\n",
    "{\n",
    "\"name\": \"Exam\",\n",
    "\"imdb\": 4.2,\n",
    "\"category\": \"Thriller\"\n",
    "},\n",
    "{\n",
    "\"name\": \"We Two\",\n",
    "\"imdb\": 7.2,\n",
    "\"category\": \"Romance\"\n",
    "}\n",
    "]\n",
    "random_movie = movies[random.randint(0, len(movies) - 1)]  \n",
    "print(imdb(random_movie))\n"
   ]
  },
  {
   "cell_type": "code",
   "execution_count": 5,
   "id": "3b37ea33-9360-49bb-93c7-f91665aced54",
   "metadata": {},
   "outputs": [
    {
     "name": "stdout",
     "output_type": "stream",
     "text": [
      "{'name': 'Usual Suspects', 'imdb': 7.0, 'category': 'Thriller'}\n",
      "{'name': 'Hitman', 'imdb': 6.3, 'category': 'Action'}\n",
      "{'name': 'Dark Knight', 'imdb': 9.0, 'category': 'Adventure'}\n",
      "{'name': 'The Help', 'imdb': 8.0, 'category': 'Drama'}\n",
      "{'name': 'The Choice', 'imdb': 6.2, 'category': 'Romance'}\n",
      "{'name': 'Colonia', 'imdb': 7.4, 'category': 'Romance'}\n",
      "{'name': 'Love', 'imdb': 6.0, 'category': 'Romance'}\n",
      "{'name': 'Joking muck', 'imdb': 7.2, 'category': 'Comedy'}\n",
      "{'name': 'What is the name', 'imdb': 9.2, 'category': 'Suspense'}\n",
      "{'name': 'Detective', 'imdb': 7.0, 'category': 'Suspense'}\n",
      "{'name': 'We Two', 'imdb': 7.2, 'category': 'Romance'}\n"
     ]
    }
   ],
   "source": [
    "def imdb(mov):\n",
    "    return mov[\"imdb\"] > 5.5\n",
    "movies = [\n",
    "{\n",
    "\"name\": \"Usual Suspects\", \n",
    "\"imdb\": 7.0,\n",
    "\"category\": \"Thriller\"\n",
    "},\n",
    "{\n",
    "\"name\": \"Hitman\",\n",
    "\"imdb\": 6.3,\n",
    "\"category\": \"Action\"\n",
    "},\n",
    "{\n",
    "\"name\": \"Dark Knight\",\n",
    "\"imdb\": 9.0,\n",
    "\"category\": \"Adventure\"\n",
    "},\n",
    "{\n",
    "\"name\": \"The Help\",\n",
    "\"imdb\": 8.0,\n",
    "\"category\": \"Drama\"\n",
    "},\n",
    "{\n",
    "\"name\": \"The Choice\",\n",
    "\"imdb\": 6.2,\n",
    "\"category\": \"Romance\"\n",
    "},\n",
    "{\n",
    "\"name\": \"Colonia\",\n",
    "\"imdb\": 7.4,\n",
    "\"category\": \"Romance\"\n",
    "},\n",
    "{\n",
    "\"name\": \"Love\",\n",
    "\"imdb\": 6.0,\n",
    "\"category\": \"Romance\"\n",
    "},\n",
    "{\n",
    "\"name\": \"Bride Wars\",\n",
    "\"imdb\": 5.4,\n",
    "\"category\": \"Romance\"\n",
    "},\n",
    "{\n",
    "\"name\": \"AlphaJet\",\n",
    "\"imdb\": 3.2,\n",
    "\"category\": \"War\"\n",
    "},\n",
    "{\n",
    "\"name\": \"Ringing Crime\",\n",
    "\"imdb\": 4.0,\n",
    "\"category\": \"Crime\"\n",
    "},\n",
    "{\n",
    "\"name\": \"Joking muck\",\n",
    "\"imdb\": 7.2,\n",
    "\"category\": \"Comedy\"\n",
    "},\n",
    "{\n",
    "\"name\": \"What is the name\",\n",
    "\"imdb\": 9.2,\n",
    "\"category\": \"Suspense\"\n",
    "},\n",
    "{\n",
    "\"name\": \"Detective\",\n",
    "\"imdb\": 7.0,\n",
    "\"category\": \"Suspense\"\n",
    "},\n",
    "{\n",
    "\"name\": \"Exam\",\n",
    "\"imdb\": 4.2,\n",
    "\"category\": \"Thriller\"\n",
    "},\n",
    "{\n",
    "\"name\": \"We Two\",\n",
    "\"imdb\": 7.2,\n",
    "\"category\": \"Romance\"\n",
    "}\n",
    "]\n",
    "for i in range(len(movies)):\n",
    "    if imdb(movies[i]):\n",
    "        print(movies[i])\n"
   ]
  },
  {
   "cell_type": "code",
   "execution_count": 17,
   "id": "6d85f26e-d1e3-4271-be80-6d6ffc3cb0b7",
   "metadata": {},
   "outputs": [
    {
     "name": "stdin",
     "output_type": "stream",
     "text": [
      " Suspense\n"
     ]
    },
    {
     "name": "stdout",
     "output_type": "stream",
     "text": [
      "{'name': 'What is the name', 'imdb': 9.2, 'category': 'Suspense'}\n",
      "{'name': 'Detective', 'imdb': 7.0, 'category': 'Suspense'}\n"
     ]
    }
   ],
   "source": [
    "def cat(name, movies):\n",
    "    for movie in movies:\n",
    "        if movie[\"category\"] == name:\n",
    "            print(movie) \n",
    "movies = [\n",
    "{\n",
    "\"name\": \"Usual Suspects\", \n",
    "\"imdb\": 7.0,\n",
    "\"category\": \"Thriller\"\n",
    "},\n",
    "{\n",
    "\"name\": \"Hitman\",\n",
    "\"imdb\": 6.3,\n",
    "\"category\": \"Action\"\n",
    "},\n",
    "{\n",
    "\"name\": \"Dark Knight\",\n",
    "\"imdb\": 9.0,\n",
    "\"category\": \"Adventure\"\n",
    "},\n",
    "{\n",
    "\"name\": \"The Help\",\n",
    "\"imdb\": 8.0,\n",
    "\"category\": \"Drama\"\n",
    "},\n",
    "{\n",
    "\"name\": \"The Choice\",\n",
    "\"imdb\": 6.2,\n",
    "\"category\": \"Romance\"\n",
    "},\n",
    "{\n",
    "\"name\": \"Colonia\",\n",
    "\"imdb\": 7.4,\n",
    "\"category\": \"Romance\"\n",
    "},\n",
    "{\n",
    "\"name\": \"Love\",\n",
    "\"imdb\": 6.0,\n",
    "\"category\": \"Romance\"\n",
    "},\n",
    "{\n",
    "\"name\": \"Bride Wars\",\n",
    "\"imdb\": 5.4,\n",
    "\"category\": \"Romance\"\n",
    "},\n",
    "{\n",
    "\"name\": \"AlphaJet\",\n",
    "\"imdb\": 3.2,\n",
    "\"category\": \"War\"\n",
    "},\n",
    "{\n",
    "\"name\": \"Ringing Crime\",\n",
    "\"imdb\": 4.0,\n",
    "\"category\": \"Crime\"\n",
    "},\n",
    "{\n",
    "\"name\": \"Joking muck\",\n",
    "\"imdb\": 7.2,\n",
    "\"category\": \"Comedy\"\n",
    "},\n",
    "{\n",
    "\"name\": \"What is the name\",\n",
    "\"imdb\": 9.2,\n",
    "\"category\": \"Suspense\"\n",
    "},\n",
    "{\n",
    "\"name\": \"Detective\",\n",
    "\"imdb\": 7.0,\n",
    "\"category\": \"Suspense\"\n",
    "},\n",
    "{\n",
    "\"name\": \"Exam\",\n",
    "\"imdb\": 4.2,\n",
    "\"category\": \"Thriller\"\n",
    "},\n",
    "{\n",
    "\"name\": \"We Two\",\n",
    "\"imdb\": 7.2,\n",
    "\"category\": \"Romance\"\n",
    "}\n",
    "]\n",
    "name = input()\n",
    "cat(name, movies)"
   ]
  },
  {
   "cell_type": "code",
   "execution_count": 29,
   "id": "a76921e7-5970-418f-b2d9-ac93eeb79db0",
   "metadata": {},
   "outputs": [
    {
     "name": "stdin",
     "output_type": "stream",
     "text": [
      "how many movies would u like to use in ur avg imdb value? 2\n",
      " Exam\n",
      " We Two\n"
     ]
    },
    {
     "name": "stdout",
     "output_type": "stream",
     "text": [
      "5.7\n"
     ]
    }
   ],
   "source": [
    "def avg(l, movies):\n",
    "    avg = 0\n",
    "    cnt = 0\n",
    "    for movie in movies:\n",
    "        if movie[\"name\"] in l:\n",
    "            avg += movie[\"imdb\"]\n",
    "            cnt += 1\n",
    "    print(avg/cnt)\n",
    "movies = [\n",
    "{\n",
    "\"name\": \"Usual Suspects\", \n",
    "\"imdb\": 7.0,\n",
    "\"category\": \"Thriller\"\n",
    "},\n",
    "{\n",
    "\"name\": \"Hitman\",\n",
    "\"imdb\": 6.3,\n",
    "\"category\": \"Action\"\n",
    "},\n",
    "{\n",
    "\"name\": \"Dark Knight\",\n",
    "\"imdb\": 9.0,\n",
    "\"category\": \"Adventure\"\n",
    "},\n",
    "{\n",
    "\"name\": \"The Help\",\n",
    "\"imdb\": 8.0,\n",
    "\"category\": \"Drama\"\n",
    "},\n",
    "{\n",
    "\"name\": \"The Choice\",\n",
    "\"imdb\": 6.2,\n",
    "\"category\": \"Romance\"\n",
    "},\n",
    "{\n",
    "\"name\": \"Colonia\",\n",
    "\"imdb\": 7.4,\n",
    "\"category\": \"Romance\"\n",
    "},\n",
    "{\n",
    "\"name\": \"Love\",\n",
    "\"imdb\": 6.0,\n",
    "\"category\": \"Romance\"\n",
    "},\n",
    "{\n",
    "\"name\": \"Bride Wars\",\n",
    "\"imdb\": 5.4,\n",
    "\"category\": \"Romance\"\n",
    "},\n",
    "{\n",
    "\"name\": \"AlphaJet\",\n",
    "\"imdb\": 3.2,\n",
    "\"category\": \"War\"\n",
    "},\n",
    "{\n",
    "\"name\": \"Ringing Crime\",\n",
    "\"imdb\": 4.0,\n",
    "\"category\": \"Crime\"\n",
    "},\n",
    "{\n",
    "\"name\": \"Joking muck\",\n",
    "\"imdb\": 7.2,\n",
    "\"category\": \"Comedy\"\n",
    "},\n",
    "{\n",
    "\"name\": \"What is the name\",\n",
    "\"imdb\": 9.2,\n",
    "\"category\": \"Suspense\"\n",
    "},\n",
    "{\n",
    "\"name\": \"Detective\",\n",
    "\"imdb\": 7.0,\n",
    "\"category\": \"Suspense\"\n",
    "},\n",
    "{\n",
    "\"name\": \"Exam\",\n",
    "\"imdb\": 4.2,\n",
    "\"category\": \"Thriller\"\n",
    "},\n",
    "{\n",
    "\"name\": \"We Two\",\n",
    "\"imdb\": 7.2,\n",
    "\"category\": \"Romance\"\n",
    "}\n",
    "]\n",
    "n = int(input(\"how many movies would u like to use in ur avg imdb value?\"))\n",
    "l = []\n",
    "for i in range(n):\n",
    "    name = input()\n",
    "    l.append(name)\n",
    "avg(l, movies)"
   ]
  },
  {
   "cell_type": "code",
   "execution_count": 33,
   "id": "ea89fa04-54aa-4633-ab7d-7572e621a036",
   "metadata": {},
   "outputs": [
    {
     "name": "stdin",
     "output_type": "stream",
     "text": [
      " Romance\n"
     ]
    },
    {
     "name": "stdout",
     "output_type": "stream",
     "text": [
      "6.44\n"
     ]
    }
   ],
   "source": [
    "def avg(n, movies):\n",
    "    avg = 0\n",
    "    cnt = 0\n",
    "    for movie in movies:\n",
    "        if movie[\"category\"] == n:\n",
    "            avg += movie[\"imdb\"]\n",
    "            cnt += 1\n",
    "    print(avg/cnt)\n",
    "movies = [\n",
    "{\n",
    "\"name\": \"Usual Suspects\", \n",
    "\"imdb\": 7.0,\n",
    "\"category\": \"Thriller\"\n",
    "},\n",
    "{\n",
    "\"name\": \"Hitman\",\n",
    "\"imdb\": 6.3,\n",
    "\"category\": \"Action\"\n",
    "},\n",
    "{\n",
    "\"name\": \"Dark Knight\",\n",
    "\"imdb\": 9.0,\n",
    "\"category\": \"Adventure\"\n",
    "},\n",
    "{\n",
    "\"name\": \"The Help\",\n",
    "\"imdb\": 8.0,\n",
    "\"category\": \"Drama\"\n",
    "},\n",
    "{\n",
    "\"name\": \"The Choice\",\n",
    "\"imdb\": 6.2,\n",
    "\"category\": \"Romance\"\n",
    "},\n",
    "{\n",
    "\"name\": \"Colonia\",\n",
    "\"imdb\": 7.4,\n",
    "\"category\": \"Romance\"\n",
    "},\n",
    "{\n",
    "\"name\": \"Love\",\n",
    "\"imdb\": 6.0,\n",
    "\"category\": \"Romance\"\n",
    "},\n",
    "{\n",
    "\"name\": \"Bride Wars\",\n",
    "\"imdb\": 5.4,\n",
    "\"category\": \"Romance\"\n",
    "},\n",
    "{\n",
    "\"name\": \"AlphaJet\",\n",
    "\"imdb\": 3.2,\n",
    "\"category\": \"War\"\n",
    "},\n",
    "{\n",
    "\"name\": \"Ringing Crime\",\n",
    "\"imdb\": 4.0,\n",
    "\"category\": \"Crime\"\n",
    "},\n",
    "{\n",
    "\"name\": \"Joking muck\",\n",
    "\"imdb\": 7.2,\n",
    "\"category\": \"Comedy\"\n",
    "},\n",
    "{\n",
    "\"name\": \"What is the name\",\n",
    "\"imdb\": 9.2,\n",
    "\"category\": \"Suspense\"\n",
    "},\n",
    "{\n",
    "\"name\": \"Detective\",\n",
    "\"imdb\": 7.0,\n",
    "\"category\": \"Suspense\"\n",
    "},\n",
    "{\n",
    "\"name\": \"Exam\",\n",
    "\"imdb\": 4.2,\n",
    "\"category\": \"Thriller\"\n",
    "},\n",
    "{\n",
    "\"name\": \"We Two\",\n",
    "\"imdb\": 7.2,\n",
    "\"category\": \"Romance\"\n",
    "}\n",
    "]\n",
    "n = str(input())\n",
    "avg(n, movies)"
   ]
  },
  {
   "cell_type": "code",
   "execution_count": 35,
   "id": "6e12ebd1-1754-4b53-82fc-c2074c9fef74",
   "metadata": {},
   "outputs": [
    {
     "name": "stdin",
     "output_type": "stream",
     "text": [
      " lookup\n"
     ]
    },
    {
     "name": "stdout",
     "output_type": "stream",
     "text": [
      "LOOKUP\n"
     ]
    }
   ],
   "source": [
    "class myclass:\n",
    "    def getString(self):\n",
    "        self.text = input()\n",
    "\n",
    "    def printString(self):\n",
    "        print(self.text.upper())\n",
    "a = myclass()\n",
    "a.getString()\n",
    "a.printString()"
   ]
  },
  {
   "cell_type": "code",
   "execution_count": 37,
   "id": "7f53d63d-fbbc-4484-a700-b09752e6c3ab",
   "metadata": {},
   "outputs": [
    {
     "name": "stdout",
     "output_type": "stream",
     "text": [
      "16\n"
     ]
    }
   ],
   "source": [
    "class shape:\n",
    "    def area(self):\n",
    "        return 0\n",
    "class square(shape):  \n",
    "    def __init__(self, length):\n",
    "        self.length = length  \n",
    "\n",
    "    def area(self):\n",
    "        return self.length ** 2\n",
    "s = square(4)\n",
    "print(s.area())"
   ]
  },
  {
   "cell_type": "code",
   "execution_count": 39,
   "id": "5d1a6696-9063-4e6a-95c8-603d1f843eb6",
   "metadata": {},
   "outputs": [
    {
     "name": "stdout",
     "output_type": "stream",
     "text": [
      "10\n"
     ]
    }
   ],
   "source": [
    "class shape:\n",
    "    def area(self):\n",
    "        return 0\n",
    "class rectangle(shape):\n",
    "    def __init__(self, length, width):\n",
    "        self.length = length\n",
    "        self.width = width\n",
    "    def area(self):\n",
    "        return self.length * self.width\n",
    "s = rectangle(2,5)\n",
    "print(s.area())\n"
   ]
  },
  {
   "cell_type": "code",
   "execution_count": 45,
   "id": "c3bf9793-6bae-418f-8bec-8e73146f5923",
   "metadata": {},
   "outputs": [
    {
     "name": "stdout",
     "output_type": "stream",
     "text": [
      "0 0\n",
      "3 4\n",
      "5.0\n"
     ]
    }
   ],
   "source": [
    "import math\n",
    "\n",
    "class point:\n",
    "    def __init__(self, x, y):\n",
    "        self.x = x\n",
    "        self.y = y\n",
    "        \n",
    "    def move(self, x, y):\n",
    "        self.prevx = self.x\n",
    "        self.prevy = self.y\n",
    "        self.x = x\n",
    "        self.y = y\n",
    "        \n",
    "    def show(self):\n",
    "        print(self.x, self.y)\n",
    "        \n",
    "    def dist(self):\n",
    "        print(math.sqrt((self.x-self.prevx)**2 + (self.y - self.prevy)**2))\n",
    "p = point(0, 0)\n",
    "p.show()\n",
    "p.move(3, 4)\n",
    "p.show()\n",
    "p.dist()"
   ]
  },
  {
   "cell_type": "code",
   "execution_count": 51,
   "id": "02af2af1-46fa-4965-a317-160138d38c18",
   "metadata": {},
   "outputs": [
    {
     "name": "stdout",
     "output_type": "stream",
     "text": [
      "у вас недостаточно счета на балансе\n"
     ]
    }
   ],
   "source": [
    "class acc:\n",
    "    def __init__(self, owner, balance):\n",
    "        self.owner = owner\n",
    "        self.balance = balance\n",
    "    def deposit(self, dep):\n",
    "        self.balance +=dep\n",
    "    def withdraw(self, wit):\n",
    "        if self.balance - wit >=0:\n",
    "            self.balance -= wit\n",
    "        else:\n",
    "            print(\"у вас недостаточно счета на балансе\")\n",
    "account = acc(\"Aidar\", 500)\n",
    "account.deposit(200)\n",
    "account.withdraw(800)"
   ]
  },
  {
   "cell_type": "code",
   "execution_count": 55,
   "id": "9d26a077-506c-4611-8108-d8f092e65f86",
   "metadata": {},
   "outputs": [
    {
     "name": "stdout",
     "output_type": "stream",
     "text": [
      "[2, 3, 5, 7, 11, 13]\n"
     ]
    }
   ],
   "source": [
    "is_prime = lambda x: x > 1 and all(x % i != 0 for i in range(2, int(x ** 0.5) + 1))\n",
    "numbers = [1, 2, 3, 4, 5, 6, 7, 8, 9, 10, 11, 12, 13, 14, 15]\n",
    "prime_numbers = list(filter(is_prime, numbers))\n",
    "print(prime_numbers)\n"
   ]
  },
  {
   "cell_type": "code",
   "execution_count": null,
   "id": "af090f16-d663-4ff4-a1a4-969fc7ea3133",
   "metadata": {},
   "outputs": [],
   "source": []
  }
 ],
 "metadata": {
  "kernelspec": {
   "display_name": "Python 3 (ipykernel)",
   "language": "python",
   "name": "python3"
  },
  "language_info": {
   "codemirror_mode": {
    "name": "ipython",
    "version": 3
   },
   "file_extension": ".py",
   "mimetype": "text/x-python",
   "name": "python",
   "nbconvert_exporter": "python",
   "pygments_lexer": "ipython3",
   "version": "3.12.7"
  }
 },
 "nbformat": 4,
 "nbformat_minor": 5
}
