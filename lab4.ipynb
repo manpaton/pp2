{
 "cells": [
  {
   "cell_type": "code",
   "execution_count": 1,
   "id": "2ca018c4-617e-4d08-b800-c6b2da2809d6",
   "metadata": {},
   "outputs": [
    {
     "name": "stdout",
     "output_type": "stream",
     "text": [
      "2025-02-07 15:14:12.905810\n"
     ]
    }
   ],
   "source": [
    "from datetime import datetime, timedelta\n",
    "\n",
    "x = datetime.now()\n",
    "y = x - timedelta(days =5)\n",
    "\n",
    "print(y)"
   ]
  },
  {
   "cell_type": "code",
   "execution_count": 3,
   "id": "735d430c-bcaa-48a2-a2bd-2365315f8f84",
   "metadata": {},
   "outputs": [
    {
     "name": "stdout",
     "output_type": "stream",
     "text": [
      "2025-02-11 15:14:15.380239\n",
      "2025-02-12 15:14:15.380239\n",
      "2025-02-13 15:14:15.380239\n"
     ]
    }
   ],
   "source": [
    "from datetime import datetime, timedelta\n",
    "\n",
    "x = datetime.now()\n",
    "y = x - timedelta(days =1)\n",
    "z = x + timedelta(days = 1)\n",
    "print(y)\n",
    "print(x)\n",
    "print(z)\n"
   ]
  },
  {
   "cell_type": "code",
   "execution_count": 5,
   "id": "8bf2bcc6-76b0-4f72-8446-d1816d84372d",
   "metadata": {},
   "outputs": [
    {
     "name": "stdout",
     "output_type": "stream",
     "text": [
      "2025-02-12 15:15:39\n"
     ]
    }
   ],
   "source": [
    "from datetime import datetime, timedelta\n",
    "\n",
    "x = datetime.now().replace(microsecond=0)\n",
    "\n",
    "print(x)"
   ]
  },
  {
   "cell_type": "code",
   "execution_count": 37,
   "id": "f2ca129d-3752-462c-aa8e-39b585a5d019",
   "metadata": {},
   "outputs": [
    {
     "name": "stdin",
     "output_type": "stream",
     "text": [
      "date (YYYY-MM-DD HH:MM:SS):  2025-06-25 4:32:51\n"
     ]
    },
    {
     "name": "stdout",
     "output_type": "stream",
     "text": [
      "difference between two dates is 11448932\n"
     ]
    }
   ],
   "source": [
    "from datetime import datetime\n",
    "\n",
    "x = datetime.now().replace(microsecond=0)\n",
    "\n",
    "y = input(\"date (YYYY-MM-DD HH:MM:SS): \")  \n",
    "y = datetime.strptime(y, \"%Y-%m-%d %H:%M:%S\")\n",
    "\n",
    "z = y-x\n",
    "diff=z.total_seconds()\n",
    "\n",
    "print(\"difference between two dates is \"+str(int(diff)))"
   ]
  },
  {
   "cell_type": "code",
   "execution_count": 15,
   "id": "381965a2-de45-4aaf-a30c-a40cda9de5be",
   "metadata": {},
   "outputs": [
    {
     "name": "stdin",
     "output_type": "stream",
     "text": [
      " 5\n"
     ]
    },
    {
     "name": "stdout",
     "output_type": "stream",
     "text": [
      "1\n",
      "4\n",
      "9\n",
      "16\n",
      "25\n"
     ]
    }
   ],
   "source": [
    "def it(n):\n",
    "    for i in range(1, n+1):\n",
    "        yield i**2\n",
    "n = int(input())\n",
    "gen = it(n)\n",
    "\n",
    "for i in gen:\n",
    "    print(i)"
   ]
  },
  {
   "cell_type": "code",
   "execution_count": 17,
   "id": "d73e7e86-9921-4f05-afbd-2e16154c243e",
   "metadata": {},
   "outputs": [
    {
     "name": "stdin",
     "output_type": "stream",
     "text": [
      " 10\n"
     ]
    },
    {
     "name": "stdout",
     "output_type": "stream",
     "text": [
      "0, 2, 4, 6, 8, 10\n"
     ]
    }
   ],
   "source": [
    "def it(n):\n",
    "    i = 0\n",
    "    while i < n+1:\n",
    "        yield str(i)\n",
    "        i+=2\n",
    "n = int(input())\n",
    "gen = it(n)\n",
    "print(\", \" .join(it(n)))"
   ]
  },
  {
   "cell_type": "code",
   "execution_count": 19,
   "id": "e69c1e5f-58a9-44ac-81e3-d3b0a36931bd",
   "metadata": {},
   "outputs": [
    {
     "name": "stdin",
     "output_type": "stream",
     "text": [
      " 25\n"
     ]
    },
    {
     "name": "stdout",
     "output_type": "stream",
     "text": [
      "12\n",
      "24\n"
     ]
    }
   ],
   "source": [
    "def it(n):\n",
    "    for i in range(1, n+1):\n",
    "        if i %12==0:\n",
    "            yield str(i)\n",
    "n = int(input())\n",
    "gen = it(n)\n",
    "for i in gen:\n",
    "    print(i)"
   ]
  },
  {
   "cell_type": "code",
   "execution_count": 23,
   "id": "f8afb5ad-4b7a-4629-995a-74afbbf84806",
   "metadata": {},
   "outputs": [
    {
     "name": "stdin",
     "output_type": "stream",
     "text": [
      " 2\n",
      " 5\n"
     ]
    },
    {
     "name": "stdout",
     "output_type": "stream",
     "text": [
      "4\n",
      "9\n",
      "16\n",
      "25\n"
     ]
    }
   ],
   "source": [
    "def it(a, b):\n",
    "    for i in range(a, b+1):\n",
    "        yield i**2\n",
    "a = int(input())\n",
    "b = int(input())\n",
    "\n",
    "gen = it(a,b)\n",
    "for i in gen:\n",
    "    print(i)"
   ]
  },
  {
   "cell_type": "code",
   "execution_count": 25,
   "id": "5ff28612-b49c-4313-a004-b1af0b7ed82a",
   "metadata": {},
   "outputs": [
    {
     "name": "stdin",
     "output_type": "stream",
     "text": [
      " 10\n"
     ]
    },
    {
     "name": "stdout",
     "output_type": "stream",
     "text": [
      "10\n",
      "9\n",
      "8\n",
      "7\n",
      "6\n",
      "5\n",
      "4\n",
      "3\n",
      "2\n",
      "1\n"
     ]
    }
   ],
   "source": [
    "def it(a):\n",
    "    for i in range(a, 0, -1):\n",
    "        yield i\n",
    "a = int(input())\n",
    "\n",
    "gen = it(a)\n",
    "for i in gen:\n",
    "    print(i)"
   ]
  },
  {
   "cell_type": "code",
   "execution_count": 39,
   "id": "e4e08b1b-b077-4973-ad11-d6fcf88f28b7",
   "metadata": {},
   "outputs": [
    {
     "name": "stdin",
     "output_type": "stream",
     "text": [
      "Input degree:  270\n"
     ]
    },
    {
     "name": "stdout",
     "output_type": "stream",
     "text": [
      "Output radian:  4.71238898038469\n"
     ]
    }
   ],
   "source": [
    "import math\n",
    "\n",
    "degree = int(input(\"Input degree: \"))\n",
    "rad = math.radians(degree)\n",
    "print(\"Output radian: \", rad)\n"
   ]
  },
  {
   "cell_type": "code",
   "execution_count": 29,
   "id": "776dcb27-c272-4aa8-9387-a97003da3112",
   "metadata": {},
   "outputs": [
    {
     "name": "stdin",
     "output_type": "stream",
     "text": [
      "Enter base 1:  5\n",
      "Enter base 2:  6\n",
      "Enter height:  5\n"
     ]
    },
    {
     "name": "stdout",
     "output_type": "stream",
     "text": [
      "Expected output 27.5\n"
     ]
    }
   ],
   "source": [
    "def area(a, b, h):\n",
    "    return (a + b) * h / 2 \n",
    "\n",
    "a = float(input(\"Enter base 1: \"))\n",
    "b = float(input(\"Enter base 2: \"))\n",
    "h = float(input(\"Enter height: \"))\n",
    "\n",
    "print(\"Expected output\", area(a, b, h))\n"
   ]
  },
  {
   "cell_type": "code",
   "execution_count": 33,
   "id": "9946de19-4871-4e8e-9e83-c882a67a48ed",
   "metadata": {},
   "outputs": [
    {
     "name": "stdin",
     "output_type": "stream",
     "text": [
      " 4\n",
      " 25\n"
     ]
    },
    {
     "name": "stdout",
     "output_type": "stream",
     "text": [
      "625\n"
     ]
    }
   ],
   "source": [
    "import math\n",
    "def area(n, l):\n",
    "    return int((n*l**2)/(4*math.tan(math.pi/n)))\n",
    "\n",
    "n = int(input())\n",
    "l = int(input())\n",
    "print(area(n, l))"
   ]
  },
  {
   "cell_type": "code",
   "execution_count": 35,
   "id": "b53bdce8-c111-4070-951b-fd10f5fb7cd8",
   "metadata": {},
   "outputs": [
    {
     "name": "stdin",
     "output_type": "stream",
     "text": [
      " 5\n",
      " 6\n"
     ]
    },
    {
     "name": "stdout",
     "output_type": "stream",
     "text": [
      "30.0\n"
     ]
    }
   ],
   "source": [
    "import math\n",
    "def area(n, l):\n",
    "    return float(n*l)\n",
    "\n",
    "n = int(input())\n",
    "l = int(input())\n",
    "print(area(n, l))"
   ]
  },
  {
   "cell_type": "code",
   "execution_count": null,
   "id": "bdffd072-1bf8-44dd-83f6-f5d297ebebfa",
   "metadata": {},
   "outputs": [],
   "source": []
  }
 ],
 "metadata": {
  "kernelspec": {
   "display_name": "Python 3 (ipykernel)",
   "language": "python",
   "name": "python3"
  },
  "language_info": {
   "codemirror_mode": {
    "name": "ipython",
    "version": 3
   },
   "file_extension": ".py",
   "mimetype": "text/x-python",
   "name": "python",
   "nbconvert_exporter": "python",
   "pygments_lexer": "ipython3",
   "version": "3.12.7"
  }
 },
 "nbformat": 4,
 "nbformat_minor": 5
}
